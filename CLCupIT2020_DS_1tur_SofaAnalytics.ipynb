{
 "cells": [
  {
   "cell_type": "code",
   "execution_count": null,
   "metadata": {},
   "outputs": [],
   "source": [
    "import numpy as np\n",
    "import pandas as pd\n",
    "from sklearn.model_selection import train_test_split\n",
    "import seaborn as sns\n",
    "from sklearn.ensemble import GradientBoostingClassifier\n",
    "from sklearn.model_selection import train_test_split\n",
    "import xgboost as xgb\n",
    "from sklearn.svm import SVR"
   ]
  },
  {
   "cell_type": "code",
   "execution_count": null,
   "metadata": {},
   "outputs": [],
   "source": [
    "data_train = pd.read_csv('CUP_IT_train_data_new.csv')\n",
    "data_test =  pd.read_csv('CUP_IT_test_data1.csv', sep=';')"
   ]
  },
  {
   "cell_type": "code",
   "execution_count": null,
   "metadata": {},
   "outputs": [],
   "source": [
    "data_train['cu_education_level']=data_train.cu_education_level.fillna('03. Высшее')\n",
    "data_train['cc_balance'] = data_train.cc_balance.fillna(1667.7381963197197).apply(np.abs)\n",
    "data_train['cl_balance'] = data_train.cl_balance.fillna(0).apply(np.abs)\n",
    "data_train['ml_balance'] = data_train.ml_balance.fillna(0).apply(np.abs)\n",
    "data_train['pl_balance'] = data_train.pl_balance.fillna(0).apply(np.abs)\n",
    "data_train['td_volume'] = data_train.td_volume.fillna(0).apply(np.abs)\n",
    "data_train['ca_volume'] = data_train.ca_volume.fillna(9.374111562519905).apply(np.abs)\n",
    "data_train['sa_volume'] = data_train.sa_volume.fillna(0).apply(np.abs)\n",
    "data_train['mf_volume'] = data_train.mf_volume.fillna(0).apply(np.abs)"
   ]
  },
  {
   "cell_type": "code",
   "execution_count": null,
   "metadata": {},
   "outputs": [],
   "source": [
    "data_train.loc[data_train.big_city == 'MSK', 'big_city'] = 0\n",
    "data_train.loc[data_train.big_city == 'MLN', 'big_city'] = 1\n",
    "data_train.loc[data_train.big_city == 'SPB', 'big_city'] = 2\n",
    "data_train.loc[data_train.big_city == 'OTH', 'big_city'] = 3\n",
    "data_train['cu_education_level'] = data_train['cu_education_level'].apply(lambda x: int(str(x)[1]))\n",
    "data_train[['big_city']] = data_train[['big_city']].astype(int)\n",
    "data_train['dlk_cob_date'] = pd.to_datetime(data_train.dlk_cob_date).dt.month"
   ]
  },
  {
   "cell_type": "code",
   "execution_count": null,
   "metadata": {},
   "outputs": [],
   "source": [
    "data_train_drop = data_train.drop(['gi_smooth_3m',\n",
    "                              'cu_empl_area',\n",
    "                              'cu_empl_level',\n",
    "                              'cur_quantity_cc',\n",
    "                              'cur_quantity_deposits',\n",
    "                              'cur_quantity_dc',\n",
    "                              'cur_quantity_accounts',\n",
    "                              'cur_quantity_saccounts',\n",
    "                              'cur_quantity_mf',\n",
    "                              'cc_balance',\n",
    "                              'cl_balance',\n",
    "                              'ml_balance',\n",
    "                              'pl_balance',\n",
    "                              'td_volume',\n",
    "                              'ca_volume',\n",
    "                              'mf_volume',\n",
    "                              'dc_cash_spend_v',\n",
    "                              'cc_cash_spend_v',\n",
    "                              'dc_pos_spend_v',\n",
    "                              'cc_pos_spend_v',\n",
    "                              'cur_qnt_sms',\n",
    "                              'cu_empl_cur_dur_m'], axis = 1)"
   ]
  },
  {
   "cell_type": "code",
   "execution_count": null,
   "metadata": {},
   "outputs": [],
   "source": [
    "X = data_train_drop.drop(['cif_id', 'dlk_cob_date', 'active'], axis = 1)\n",
    "y = data_train_drop.active\n",
    "X_train, X_test, y_train, y_test = train_test_split(X, y, test_size = 0.7, random_state = 241)"
   ]
  },
  {
   "cell_type": "code",
   "execution_count": null,
   "metadata": {},
   "outputs": [],
   "source": [
    "gbm = xgb.XGBClassifier(max_depth=3, n_estimators=40, learning_rate=0.2)\n",
    "gbm.fit(X_train, y_train)"
   ]
  },
  {
   "cell_type": "code",
   "execution_count": null,
   "metadata": {},
   "outputs": [],
   "source": [
    "def isstr(x):\n",
    "    if isinstance(x,str):\n",
    "        return np.nan\n",
    "    else:\n",
    "        return float(x)\n",
    "data_test['cu_education_level']=data_test.cu_education_level.fillna('03. Высшее')\n",
    "data_test['cc_balance'] = data_test.cc_balance.dropna().apply(isstr).fillna(1034.043421753243).apply(np.abs)\n",
    "data_test['cl_balance'] = data_test.cl_balance.dropna().apply(isstr).fillna(0).apply(np.abs)\n",
    "data_test['ml_balance'] = data_test.ml_balance.dropna().apply(isstr).fillna(0).apply(np.abs)\n",
    "data_test['pl_balance'] = data_test.pl_balance.dropna().apply(isstr).fillna(0).apply(np.abs)\n",
    "data_test['td_volume'] = data_test.td_volume.fillna(0)\n",
    "data_test['ca_volume'] = data_test.ca_volume.fillna(0)\n",
    "data_test['sa_volume'] = data_test.sa_volume.apply(isstr).fillna(0)\n",
    "data_test['mf_volume'] = data_test.mf_volume.fillna(0)"
   ]
  },
  {
   "cell_type": "code",
   "execution_count": null,
   "metadata": {},
   "outputs": [],
   "source": [
    "data_test.loc[data_test.big_city == 'MSK', 'big_city'] = 0\n",
    "data_test.loc[data_test.big_city == 'MLN', 'big_city'] = 1\n",
    "data_test.loc[data_test.big_city == 'SPB', 'big_city'] = 2\n",
    "data_test.loc[data_test.big_city == 'OTH', 'big_city'] = 3\n",
    "data_test['cu_education_level'] = data_test['cu_education_level'].apply(lambda x: int(str(x)[1]))\n",
    "data_test[['big_city']] = data_test[['big_city']].astype(int)\n",
    "data_test['dlk_cob_date'] = pd.to_datetime(data_test.dlk_cob_date).dt.month"
   ]
  },
  {
   "cell_type": "code",
   "execution_count": null,
   "metadata": {},
   "outputs": [],
   "source": [
    "data_test_prof = data_test.drop(['gi_smooth_3m',\n",
    "                              'cu_empl_area',\n",
    "                              'cu_empl_level',\n",
    "                              'cur_quantity_cc',\n",
    "                              'cur_quantity_deposits',\n",
    "                              'cur_quantity_dc',\n",
    "                              'cur_quantity_accounts',\n",
    "                              'cur_quantity_saccounts',\n",
    "                              'cur_quantity_mf',\n",
    "                              'cc_balance',\n",
    "                              'cl_balance',\n",
    "                              'ml_balance',\n",
    "                              'pl_balance',\n",
    "                              'td_volume',\n",
    "                              'ca_volume',\n",
    "                              'mf_volume',\n",
    "                              'dc_cash_spend_v',\n",
    "                              'cc_cash_spend_v',\n",
    "                              'dc_pos_spend_v',\n",
    "                              'cc_pos_spend_v',\n",
    "                              'cur_qnt_sms',\n",
    "                              'cu_empl_cur_dur_m'], axis = 1)"
   ]
  },
  {
   "cell_type": "code",
   "execution_count": null,
   "metadata": {},
   "outputs": [],
   "source": [
    "X_test_data = data_test_prof.drop(['cif_id', 'dlk_cob_date', 'active'], axis = 1)"
   ]
  },
  {
   "cell_type": "code",
   "execution_count": null,
   "metadata": {},
   "outputs": [],
   "source": [
    "proba_test = gbm.predict_proba(X_test_data)\n",
    "data_test = data_test.merge(pd.DataFrame(list(map(lambda x: x[1], proba_test))), \n",
    "                              right_index=True, \n",
    "                              left_index = True).rename(columns = {0: 'proba'})"
   ]
  },
  {
   "cell_type": "code",
   "execution_count": null,
   "metadata": {},
   "outputs": [],
   "source": [
    "data_test_date_prob = data_test[['cif_id','dlk_cob_date', 'proba']]\n",
    "data_prob = pd.DataFrame(data_test_date_prob.cif_id.unique()).rename(columns = {0: 'cif_id'})\n",
    "for month in sorted(data_test_date_prob.dlk_cob_date.unique()):\n",
    "    data_prob = data_prob.merge(data_test_date_prob.loc[data_test_date_prob.dlk_cob_date == month]\\\n",
    "                                          .drop(['dlk_cob_date'],axis=1).rename(columns = {'proba': month})\n",
    "                                          , how = 'outer')\n",
    "data_prob = data_prob.merge(data_test_date_prob.loc[data_test_date_prob.dlk_cob_date == 12]\\\n",
    "                                          .drop(['dlk_cob_date'],axis=1).rename(columns = {'gi_smooth_3m': 12})\n",
    "                                          , how = 'outer')\n",
    "data_prob = data_prob.rename(columns = {'proba': 12})"
   ]
  },
  {
   "cell_type": "code",
   "execution_count": null,
   "metadata": {},
   "outputs": [],
   "source": [
    "def isstr_1(x):\n",
    "    if str.isalpha(x[0]) or str.isalpha(x[len(x)-1]) or str.isalpha(x[len(x)//2]) or str.isalpha(x[len(x)//2+1]):\n",
    "        return np.nan\n",
    "    else:\n",
    "        return x\n",
    "#Form to predict date of drop\n",
    "data_test_date_prof = data_test[['cif_id',\n",
    "                              'dlk_cob_date', \n",
    "                              'gi_smooth_3m']]\n",
    "data_test_date_prof['gi_smooth_3m'] = data_test_date_prof.gi_smooth_3m.apply(str)\n",
    "data_test_date_prof['gi_smooth_3m'] = data_test_date_prof.gi_smooth_3m.apply(isstr_1)\n",
    "data_prof = pd.DataFrame(data_test_date_prof.cif_id.unique()).rename(columns = {0: 'cif_id'})\n",
    "for month in sorted(data_test_date_prof.dlk_cob_date.unique()):\n",
    "    data_prof = data_prof.merge(data_test_date_prof.loc[data_test_date_prof.dlk_cob_date == month]\\\n",
    "                                          .drop(['dlk_cob_date'],axis=1).rename(columns = {'gi_smooth_3m': month})\n",
    "                                          , how = 'outer')\n",
    "data_prof = data_prof.merge(data_test_date_prof.loc[data_test_date_prof.dlk_cob_date == 12]\\\n",
    "                                          .drop(['dlk_cob_date'],axis=1).rename(columns = {'gi_smooth_3m': 12})\n",
    "                                          , how = 'outer')"
   ]
  },
  {
   "cell_type": "code",
   "execution_count": null,
   "metadata": {},
   "outputs": [],
   "source": [
    "def fill(x):\n",
    "    index = 12\n",
    "    line = x\n",
    "    while index >= 0 and np.isnan(x[index]):\n",
    "        index -= 1\n",
    "    if index >= 6:\n",
    "        line[:index] = line[:index].fillna(line[1:].mean())\n",
    "        return line\n",
    "data_prob = data_prob.apply(fill,axis = 1)"
   ]
  },
  {
   "cell_type": "code",
   "execution_count": null,
   "metadata": {},
   "outputs": [],
   "source": [
    "clf = SVR(kernel='linear', C=0.045, epsilon = 0.08899)\n",
    "for i in range(len(data_prob)):\n",
    "    line = data_prob.drop(['cif_id'],axis = 1).iloc[i].dropna()\n",
    "    clf.fit(pd.DataFrame(list(range(1, len(line)+1))), line)\n",
    "    data_prob.iloc[i, len(line):] = tuple(clf.predict(pd.DataFrame(list(range(len(line),13)))))\n",
    "    print(data_prob.iloc[i])"
   ]
  },
  {
   "cell_type": "code",
   "execution_count": null,
   "metadata": {},
   "outputs": [],
   "source": [
    "data_prof = data_prof.dropna(subset = list(range(1,13)))\n",
    "clf = SVR(kernel='linear', C=0.045, epsilon = 0.08899)\n",
    "for i in range(len(data_prof)):\n",
    "    line = data_prof.drop(['cif_id'],axis = 1).iloc[i].dropna()\n",
    "    clf.fit(pd.DataFrame(list(range(1, len(line)+1))), line)\n",
    "    data_prof.iloc[i, len(line):] = tuple(clf.predict(pd.DataFrame(list(range(len(line),13)))))\n",
    "    print(data_prof.iloc[i])"
   ]
  },
  {
   "cell_type": "code",
   "execution_count": null,
   "metadata": {},
   "outputs": [],
   "source": [
    "list_of_prof = []\n",
    "for i in range(len(data_prof)):\n",
    "    flag = False\n",
    "    month = 6\n",
    "    while month<12 and data_prob.iloc[i,month] >= 0.68:\n",
    "        month += 1\n",
    "    while month < 12:\n",
    "        data_prof.iloc[i,month]=0\n",
    "        month += 1\n",
    "    s = data_prof.iloc[i, 7:].sum()\n",
    "    list_of_prof.append(s)\n",
    "df = pd.DataFrame(data_test_date_prof.cif_id.unique()).rename(columns = {0: 'cif_id'})\n",
    "df = df.merge(pd.DataFrame(list_of_prof),right_index=True, \n",
    "                              left_index = True, how = 'outer').rename(columns = {0: 'profit_for_6_month'}).fillna(0)\n",
    "df.to_csv('Predict_profit.csv')"
   ]
  },
  {
   "cell_type": "code",
   "execution_count": null,
   "metadata": {},
   "outputs": [],
   "source": []
  }
 ],
 "metadata": {
  "kernelspec": {
   "display_name": "Python 3",
   "language": "python",
   "name": "python3"
  },
  "language_info": {
   "codemirror_mode": {
    "name": "ipython",
    "version": 3
   },
   "file_extension": ".py",
   "mimetype": "text/x-python",
   "name": "python",
   "nbconvert_exporter": "python",
   "pygments_lexer": "ipython3",
   "version": "3.7.4"
  }
 },
 "nbformat": 4,
 "nbformat_minor": 2
}
